{
 "cells": [
  {
   "cell_type": "code",
   "execution_count": 1,
   "metadata": {},
   "outputs": [],
   "source": [
    "import numpy as np\n",
    "import sys, os\n",
    "sys.path.append(os.pardir)\n",
    "from common.layers import *\n",
    "from common.gradient import numerical_gradient\n",
    "from collections import OrderedDict\n",
    "\n",
    "class ThreeLayerNet:\n",
    "    def __init__(self, input_size, first_size, second_size, output_size, weight_init_std = 0.01):\n",
    "        \n",
    "        self.params = {}\n",
    "        self.params['W1'] = weight_init_std * np.random.randn(input_size, first_size)\n",
    "        self.params['b1'] = np.zeros(first_size)\n",
    "        self.params['W2'] = weight_init_std * np.random.randn(first_size, second_size)\n",
    "        self.params['b2'] = np.zeros(second_size)\n",
    "        self.params['W3'] = weight_init_std * np.random.randn(second_size, output_size)\n",
    "        self.params['b3'] = np.zeros(output_size)\n",
    "        \n",
    "        # 계층 생성\n",
    "        self.layers = OrderedDict()\n",
    "        self.layers['Affine1'] = Affine(self.params['W1'], self.params['b1'])\n",
    "        self.layers['Relu1'] = Relu()\n",
    "        self.layers['Affine2'] = Affine(self.params['W2'], self.params['b2'])\n",
    "        self.layers['Relu2'] = Relu()\n",
    "        self.layers['Affine3'] = Affine(self.params['W3'], self.params['b3'])\n",
    "        self.lastLayer = SoftmaxWithLoss()\n",
    "        \n",
    "    def predict(self, x):\n",
    "        for layer in self.layers.values():\n",
    "            x = layer.forward(x)\n",
    "        \n",
    "        return x\n",
    "    \n",
    "    # x = 입력 데이터, t = 정답 레이블\n",
    "    def loss(self, x, t):\n",
    "        y = self.predict(x)\n",
    "        return self.lastLayer.forward(y, t)\n",
    "    \n",
    "    def accuracy(self, x, t):\n",
    "        y = self.predict(x)\n",
    "        y = np.argmax(y, axis = 1)\n",
    "        if t.ndim != 1 : t = np.argmax(t, axis=1)\n",
    "        \n",
    "        accuracy = np.sum(y == t) / float(x.shape[0])\n",
    "        return accuracy\n",
    "   \n",
    "    def gradient(self, x, t):\n",
    "        # forward\n",
    "        self.loss(x, t)\n",
    "\n",
    "        # backward\n",
    "        dout = 1\n",
    "        dout = self.lastLayer.backward(dout)\n",
    "        \n",
    "        layers = list(self.layers.values())\n",
    "        layers.reverse()\n",
    "        for layer in layers:\n",
    "            dout = layer.backward(dout)\n",
    "\n",
    "        grads = {}\n",
    "        grads['W1'], grads['b1'] = self.layers['Affine1'].dW, self.layers['Affine1'].db\n",
    "        grads['W2'], grads['b2'] = self.layers['Affine2'].dW, self.layers['Affine2'].db\n",
    "        grads['W3'], grads['b3'] = self.layers['Affine3'].dW, self.layers['Affine3'].db\n",
    "\n",
    "        return grads"
   ]
  },
  {
   "cell_type": "code",
   "execution_count": 3,
   "metadata": {},
   "outputs": [
    {
     "name": "stdout",
     "output_type": "stream",
     "text": [
      "0.01 %\n",
      "6.01 %\n",
      "12.01 %\n",
      "18.01 %\n",
      "24.01 %\n",
      "30.01 %\n",
      "36.01 %\n",
      "42.01 %\n",
      "48.01 %\n",
      "54.01 %\n",
      "60.01 %\n",
      "66.01 %\n",
      "72.01 %\n",
      "78.01 %\n",
      "84.01 %\n",
      "90.01 %\n",
      "96.01 %\n",
      "train_acc = 0.9926\n",
      "test_acc = 0.9773\n"
     ]
    },
    {
     "data": {
      "image/png": "[encoded data removed]",
      "text/plain": [
       "<Figure size 432x288 with 1 Axes>"
      ]
     },
     "metadata": {
      "needs_background": "light"
     },
     "output_type": "display_data"
    }
   ],
   "source": [
    "import numpy as np\n",
    "import sys, os\n",
    "sys.path.append(os.pardir)\n",
    "from dataset.mnist import load_mnist\n",
    "import matplotlib.pyplot as plt\n",
    "\n",
    "(x_train, t_train), (x_test, t_test) = load_mnist(normalize = True, one_hot_label = True)\n",
    "\n",
    "network = ThreeLayerNet(784, 200, 50, 10)\n",
    "\n",
    "# 하이퍼파라미터\n",
    "iters_num = 10000 # 반복 횟수\n",
    "train_size = x_train.shape[0]\n",
    "batch_size = 100 # 미니배치 크기\n",
    "learning_rate = 0.1\n",
    "\n",
    "train_loss_list = []\n",
    "train_acc_list = []\n",
    "test_acc_list = []\n",
    "\n",
    "# 1에폭당 반복 수\n",
    "iter_per_epoch = max(train_size / batch_size, 1)\n",
    "\n",
    "for i in range(iters_num):\n",
    "    # 미니배치 획득\n",
    "    batch_mask = np.random.choice(train_size, batch_size)\n",
    "    x_batch = x_train[batch_mask]\n",
    "    t_batch = t_train[batch_mask]\n",
    "    \n",
    "    # 기울기 계산\n",
    "    grad = network.gradient(x_batch, t_batch)\n",
    "    \n",
    "    # 매개변수 갱신\n",
    "    for key in ('W1', 'b1', 'W2', 'b2', 'W3', 'b3'):\n",
    "        network.params[key] -= learning_rate * grad[key]\n",
    "        \n",
    "    # 학습 경과 기록\n",
    "    loss = network.loss(x_batch, t_batch)\n",
    "    train_loss_list.append(loss)\n",
    "    \n",
    "    # 1에폭당 정확도 계산\n",
    "    if i % iter_per_epoch == 0:\n",
    "        train_acc = network.accuracy(x_train, t_train)\n",
    "        test_acc = network.accuracy(x_test, t_test)\n",
    "        train_acc_list.append(train_acc)\n",
    "        test_acc_list.append(test_acc)\n",
    "        print(round((i+1)/iters_num * 100, 2),'%')\n",
    "\n",
    "epoch = [i for i in range(1, len(train_acc_list)+1)]\n",
    "plt.plot(epoch, train_acc_list, 'r-')\n",
    "plt.plot(epoch, test_acc_list, 'b--')\n",
    "print('train_acc =', train_acc)\n",
    "print('test_acc =', test_acc)\n",
    "plt.show()"
   ]
  },
  {
   "cell_type": "code",
   "execution_count": 4,
   "metadata": {},
   "outputs": [
    {
     "data": {
      "text/plain": [
       "1.0"
      ]
     },
     "execution_count": 4,
     "metadata": {},
     "output_type": "execute_result"
    }
   ],
   "source": [
    "import matplotlib.image as mpimg\n",
    "\n",
    "test = []\n",
    "ans = np.diag([1]*10)\n",
    "for i in range(10):\n",
    "    img = mpimg.imread('{}.jpg'.format(i))[:,:,0]/255\n",
    "    img = img.reshape(784,)\n",
    "    test.append(img)\n",
    "    \n",
    "test = np.array(test)\n",
    "network.accuracy(test,ans)"
   ]
  },
  {
   "cell_type": "code",
   "execution_count": 5,
   "metadata": {},
   "outputs": [
    {
     "name": "stdout",
     "output_type": "stream",
     "text": [
      "[[ 5.95634944 -6.04037212  2.43787134 -4.77262904 -1.18648138 -1.10896542\n",
      "   1.89499856  1.97080794 -0.74500642  1.51707757]]\n",
      "정답 = [0] , 예측 = (array([0], dtype=int64),) 차이 = 0.0\n",
      " \n",
      "[[-8.78497178  9.39535347  1.64824521  3.38876448 -2.77536777 -2.92114599\n",
      "  -4.88113712  3.12596191  2.78522604 -1.21683226]]\n",
      "정답 = [1] , 예측 = (array([1], dtype=int64),) 차이 = 0.0\n",
      " \n",
      "[[-0.10021105  0.98290055  6.69737919  2.72664186 -9.09065253 -2.43301683\n",
      "  -3.83369379  1.8606105   4.22758512 -1.36497009]]\n",
      "정답 = [2] , 예측 = (array([2], dtype=int64),) 차이 = 0.0\n",
      " \n",
      "[[-10.00955011   6.03009908   4.00764244  14.97536756  -9.52354443\n",
      "    2.08473088 -11.1178845   -0.84155693   2.77081953   1.18283016]]\n",
      "정답 = [3] , 예측 = (array([3], dtype=int64),) 차이 = 0.0\n",
      " \n",
      "[[-4.70984805 -1.38133064 -2.17254145 -4.00438166  8.94985588 -0.44876321\n",
      "  -0.07457615  1.33926599 -0.75283352  3.09779617]]\n",
      "정답 = [4] , 예측 = (array([4], dtype=int64),) 차이 = 0.0\n",
      " \n",
      "[[-4.53603935 -2.33627297 -5.19177478  4.6627788  -1.6424511   8.88395479\n",
      "  -5.57542569 -0.7387132   0.82592598  5.49471433]]\n",
      "정답 = [5] , 예측 = (array([5], dtype=int64),) 차이 = 0.0\n",
      " \n",
      "[[ 0.40290705 -4.24445753 -4.0441863  -4.37676242  3.24313999  6.82934594\n",
      "   7.13721126 -8.20379603  3.21669249 -0.15202688]]\n",
      "정답 = [6] , 예측 = (array([6], dtype=int64),) 차이 = 0.0\n",
      " \n",
      "[[-3.86943351  0.43196336  1.61559518 -0.91532282  2.07956857 -3.61381529\n",
      "  -5.33204847  5.4757865  -0.03550782  3.98537138]]\n",
      "정답 = [7] , 예측 = (array([7], dtype=int64),) 차이 = 0.0\n",
      " \n",
      "[[-4.86200477 -1.13663596 -3.19918343  2.15206672  2.51690847  3.29191098\n",
      "  -0.35661002 -6.61490354  5.37201095  2.52161256]]\n",
      "정답 = [8] , 예측 = (array([8], dtype=int64),) 차이 = 0.0\n",
      " \n",
      "[[ -9.82299594   1.30401049  -4.12169365   1.6143282    6.3911153\n",
      "   -3.87470704 -10.63725039   4.69658912   3.34318229  10.84624235]]\n",
      "정답 = [9] , 예측 = (array([9], dtype=int64),) 차이 = 0.0\n",
      " \n"
     ]
    }
   ],
   "source": [
    "import matplotlib.image as mpimg\n",
    "\n",
    "for i in range(10):\n",
    "    img = mpimg.imread('{}.jpg'.format(i))[:,:,0]/255\n",
    "    img = img.reshape(1,784)\n",
    "\n",
    "    v = network.predict(img)\n",
    "    print(v)\n",
    "    print('정답 =',[i],',', '예측 =',np.where(v[0]==max(max(v))), '차이 =', abs(v[0][i]-max(max(v))))\n",
    "    print(' ')"
   ]
  },
  {
   "cell_type": "code",
   "execution_count": 6,
   "metadata": {},
   "outputs": [
    {
     "data": {
      "text/plain": [
       "0.6"
      ]
     },
     "execution_count": 6,
     "metadata": {},
     "output_type": "execute_result"
    }
   ],
   "source": [
    "import matplotlib.image as mpimg\n",
    "\n",
    "test = []\n",
    "ans = np.diag([1]*10)\n",
    "for i in range(10):\n",
    "    img = mpimg.imread('S{}.jpg'.format(i))[:,:,0]/255\n",
    "    img = img.reshape(784,)\n",
    "    test.append(img)\n",
    "    \n",
    "test = np.array(test)\n",
    "network.accuracy(test,ans)"
   ]
  },
  {
   "cell_type": "code",
   "execution_count": 10,
   "metadata": {},
   "outputs": [
    {
     "name": "stdout",
     "output_type": "stream",
     "text": [
      "[[  1.99703876 -14.10692723  -1.0870661   -2.7740662    3.5236147\n",
      "    0.36552523  -9.25220827   5.8896283    2.49600626  12.63889729]]\n",
      "정답 = [0] , 예측 = [9] 차이 = 10.641858531498963\n",
      " \n",
      "[[-7.80875965  6.0017002  -3.03339923 -5.96854567  5.56833867  0.78312303\n",
      "   3.91883347 -0.57952695  5.07492172 -4.2295223 ]]\n",
      "정답 = [1] , 예측 = [1] 차이 = 0.0\n",
      " \n",
      "[[ -3.57300224   2.89571553  13.41890913   3.8552545   -5.20052703\n",
      "  -10.8885672   -8.35310208   9.467274     1.76273968  -3.84306744]]\n",
      "정답 = [2] , 예측 = [2] 차이 = 0.0\n",
      " \n",
      "[[-11.32023131   4.68716446   8.4009687   28.73053505 -28.40743016\n",
      "    7.51715997 -22.56783463  -1.84518877   8.00547177   5.93784323]]\n",
      "정답 = [3] , 예측 = [3] 차이 = 0.0\n",
      " \n",
      "[[-11.76882151  -6.09058082  -9.89137919  -4.33172603  21.26193328\n",
      "   -1.42820116  -7.92003683   2.53865862   2.31744954  15.03521255]]\n",
      "정답 = [4] , 예측 = [4] 차이 = 0.0\n",
      " \n",
      "[[-9.66258544  0.87984843 -5.31676232  9.61170814 -3.38849616  8.56284484\n",
      "  -8.69955874 -4.03294888  3.26301688  8.46055411]]\n",
      "정답 = [5] , 예측 = [3] 차이 = 1.0488632936484983\n",
      " \n",
      "[[  5.88619305  -3.85096388   3.72504998  -7.37947137  -1.70979394\n",
      "    3.64703262  18.85246936 -17.52452315   6.86905407  -9.02631732]]\n",
      "정답 = [6] , 예측 = [6] 차이 = 0.0\n",
      " \n",
      "[[-10.40589363   1.88203717  -2.86620138   0.78758673   4.59307392\n",
      "   -5.31410181 -12.56719514   7.73346931   4.05703692  11.72925173]]\n",
      "정답 = [7] , 예측 = [9] 차이 = 3.9957824153472146\n",
      " \n",
      "[[-4.72470559  0.55065508 -0.19155347  8.40272474 -5.23473679  2.32089485\n",
      "  -2.79728825 -8.51910737  6.27986839  3.44074298]]\n",
      "정답 = [8] , 예측 = [3] 차이 = 2.1228563508806673\n",
      " \n",
      "[[-10.67315555  -7.85842442  -9.26146914   7.03024993   5.09974635\n",
      "    4.04365814 -14.08583396  -4.38149241  10.53528192  18.93817374]]\n",
      "정답 = [9] , 예측 = [9] 차이 = 0.0\n",
      " \n"
     ]
    }
   ],
   "source": [
    "import matplotlib.image as mpimg\n",
    "\n",
    "for i in range(10):\n",
    "    img = mpimg.imread('S{}.jpg'.format(i))[:,:,0]/255\n",
    "    img = img.reshape(1,784)\n",
    "\n",
    "    v = network.predict(img)\n",
    "    print(v)\n",
    "    print('정답 =',[i],',', '예측 =',np.where(v[0]==max(max(v)))[0], '차이 =', abs(v[0][i]-max(max(v))))\n",
    "    print(' ')"
   ]
  },
  {
   "cell_type": "code",
   "execution_count": null,
   "metadata": {},
   "outputs": [],
   "source": []
  }
 ],
 "metadata": {
  "kernelspec": {
   "display_name": "Python 3",
   "language": "python",
   "name": "python3"
  },
  "language_info": {
   "codemirror_mode": {
    "name": "ipython",
    "version": 3
   },
   "file_extension": ".py",
   "mimetype": "text/x-python",
   "name": "python",
   "nbconvert_exporter": "python",
   "pygments_lexer": "ipython3",
   "version": "3.7.0"
  }
 },
 "nbformat": 4,
 "nbformat_minor": 2
}
